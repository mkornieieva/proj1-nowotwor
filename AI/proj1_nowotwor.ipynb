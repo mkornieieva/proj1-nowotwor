{
 "cells": [
  {
   "metadata": {},
   "cell_type": "code",
   "outputs": [],
   "execution_count": null,
   "source": "",
   "id": "5a5614ba810ed24"
  },
  {
   "metadata": {},
   "cell_type": "code",
   "outputs": [],
   "execution_count": null,
   "source": [
    "import torch\n",
    "\n",
    "if torch.cuda.is_available():\n",
    "    print(\"CUDA is available.\")\n",
    "else:\n",
    "    print(\"CUDA is not available. Running on CPU-only mode.\")"
   ],
   "id": "779e6dfd6424ff05"
  },
  {
   "metadata": {},
   "cell_type": "code",
   "outputs": [],
   "execution_count": null,
   "source": [
    "import torch\n",
    "print(\"CUDA dostępne:\", torch.cuda.is_available())\n",
    "if torch.cuda.is_available():\n",
    "    print(\"Wykryta karta:\", torch.cuda.get_device_name(0))\n"
   ],
   "id": "c341622e441ea731"
  },
  {
   "metadata": {},
   "cell_type": "code",
   "outputs": [],
   "execution_count": null,
   "source": [
    "%pip install ultralytics\n",
    "import ultralytics\n",
    "ultralytics.checks()"
   ],
   "id": "fa112fb21f2567b6"
  },
  {
   "metadata": {},
   "cell_type": "markdown",
   "source": "# test\n",
   "id": "6022719b41c41b12"
  },
  {
   "metadata": {},
   "cell_type": "code",
   "outputs": [],
   "execution_count": null,
   "source": [
    "%pip install torch torchvision torchaudio --index-url https://download.pytorch.org/whl/cu121\n",
    "\n"
   ],
   "id": "9166db5e5560d7db"
  },
  {
   "metadata": {},
   "cell_type": "code",
   "outputs": [],
   "execution_count": null,
   "source": [
    "import torch\n",
    "print(\"CUDA dostępne:\", torch.cuda.is_available())\n",
    "if torch.cuda.is_available():\n",
    "    print(\"Wykryta karta:\", torch.cuda.get_device_name(0))"
   ],
   "id": "5637ee57882d06f8"
  },
  {
   "metadata": {},
   "cell_type": "code",
   "outputs": [],
   "execution_count": null,
   "source": [
    "import sys\n",
    "print(sys.executable)"
   ],
   "id": "8a39472b6c265354"
  },
  {
   "metadata": {},
   "cell_type": "code",
   "outputs": [],
   "execution_count": null,
   "source": [
    "\n",
    "%pip install ipykernel\n",
    "%python -m ipykernel install --user --name cuda-env --display-name \"Python (CUDA)\"\n"
   ],
   "id": "7b282cc7d1adb06d"
  },
  {
   "metadata": {},
   "cell_type": "code",
   "outputs": [],
   "execution_count": null,
   "source": [
    "import torch\n",
    "print(torch.__version__)\n",
    "print(\"CUDA:\", torch.cuda.is_available())\n",
    "print(\"GPU:\", torch.cuda.get_device_name(0) if torch.cuda.is_available() else \"Brak\")\n",
    "\n"
   ],
   "id": "aeb392fee05044d5"
  },
  {
   "metadata": {},
   "cell_type": "markdown",
   "source": "# trening",
   "id": "42b11e9f1f9f1b58"
  },
  {
   "metadata": {},
   "cell_type": "code",
   "outputs": [],
   "execution_count": null,
   "source": [
    "from ultralytics import YOLO\n",
    "\n",
    "# Load a model\n",
    "model = YOLO(\"yolo11n.pt\")  # load a pretrained model\n",
    "\n",
    "# Train the model on GPU (device=0)\n",
    "results = model.train(\n",
    "    data='C:/Users/basia/PycharmProjects/proj1-nowotwor/model/data.yaml',\n",
    "    epochs=100,\n",
    "    imgsz=512,\n",
    "    device=0  # GPU 0 = Twoja karta NVIDIA\n",
    ")\n"
   ],
   "id": "1d1703b91ece27e9"
  },
  {
   "metadata": {},
   "cell_type": "markdown",
   "source": "# gotowy model",
   "id": "d15ba6c70b8cd69"
  },
  {
   "metadata": {},
   "cell_type": "code",
   "outputs": [],
   "execution_count": null,
   "source": [
    "from ultralytics import YOLO\n",
    "\n",
    "# Load a model\n",
    "model = YOLO(\"C:/Users/basia/OneDrive/Pulpit/now/runs/detect/train13/weights/best.pt\")  # load a brain-tumor fine-tuned model\n",
    "\n",
    "# Inference using the model\n",
    "results = model.predict(\"C:/Users/basia/PycharmProjects/proj1-nowotwor/model/output3/test/images\")"
   ],
   "id": "4ba65ee7dec71c59"
  },
  {
   "metadata": {},
   "cell_type": "code",
   "outputs": [],
   "execution_count": null,
   "source": "results = pd.DataFrame(results)",
   "id": "4279b6b2f37efd8a"
  },
  {
   "metadata": {},
   "cell_type": "code",
   "outputs": [],
   "execution_count": null,
   "source": [
    "import os\n",
    "import pandas as pd\n",
    "\n",
    "# Ścieżki do folderów\n",
    "images_folder = \"C:/Users/basia/PycharmProjects/proj1-nowotwor/model/output3/test/images\"\n",
    "labels_folder = \"C:/Users/basia/PycharmProjects/proj1-nowotwor/model/output3/test/labels\"\n",
    "\n",
    "# Lista do przechowywania danych\n",
    "data = []\n",
    "\n",
    "# Iteracja po plikach graficznych\n",
    "for image_file in os.listdir(images_folder):\n",
    "    if image_file.lower().endswith(('.jpg', '.jpeg', '.png', '.bmp', '.gif')):\n",
    "        image_name = image_file\n",
    "        label_file = os.path.splitext(image_file)[0] + \".txt\"\n",
    "        label_path = os.path.join(labels_folder, label_file)\n",
    "\n",
    "        # Sprawdzenie czy odpowiadający plik tekstowy istnieje\n",
    "        if os.path.isfile(label_path):\n",
    "            with open(label_path, 'r', encoding='utf-8') as f:\n",
    "                first_char = f.read(1)\n",
    "                label = int(first_char) if first_char in ['0', '1'] else None\n",
    "        else:\n",
    "            label = None  # lub np. -1 jeśli chcesz oznaczyć brak pliku\n",
    "\n",
    "        data.append({'image_name': image_name, 'label': label})\n",
    "\n",
    "# Tworzenie DataFrame\n",
    "test_real = pd.DataFrame(data)\n",
    "\n",
    "# Wyświetlenie lub zapisanie wyników\n",
    "print(df)\n",
    "# df.to_csv(\"image_labels.csv\", index=False)  # jeśli chcesz zapisać\n"
   ],
   "id": "a57308cfecc101a5"
  },
  {
   "metadata": {},
   "cell_type": "code",
   "outputs": [],
   "execution_count": null,
   "source": [
    "import os\n",
    "import pandas as pd\n",
    "import numpy as np\n",
    "\n",
    "data = []\n",
    "\n",
    "# Sprawdzamy, czy to pojedynczy obiekt Results, czy tablica (np. z predict())\n",
    "results_array = results.values\n",
    "results_flat = results_array.flatten() if isinstance(results_array, np.ndarray) else [results_array]\n",
    "\n",
    "for result in results_flat:\n",
    "    image_path = result.path\n",
    "    image_name = os.path.basename(image_path)\n",
    "\n",
    "    if result.boxes is not None and result.boxes.cls.numel() > 0:\n",
    "        labels = result.boxes.cls.cpu().numpy().astype(int)\n",
    "        label = int(pd.Series(labels).mode()[0])  # Najczęstszy label\n",
    "    else:\n",
    "        label = None  # Brak wykrycia\n",
    "\n",
    "    data.append({'image_name': image_name, 'label': label})\n",
    "\n",
    "# Tworzymy DataFrame\n",
    "df = pd.DataFrame(data)\n",
    "print(df)\n"
   ],
   "id": "c958d472d39bebfc"
  },
  {
   "metadata": {},
   "cell_type": "code",
   "outputs": [],
   "execution_count": null,
   "source": [
    "test_pred = df\n",
    "test_pred = test_pred.fillna(0)"
   ],
   "id": "a2b7edf95a3c0c83"
  },
  {
   "metadata": {},
   "cell_type": "code",
   "outputs": [],
   "execution_count": null,
   "source": [
    "import pandas as pd\n",
    "from sklearn.metrics import accuracy_score, precision_score, recall_score\n",
    "\n",
    "# LEFT JOIN po image_name\n",
    "df = test_real.merge(test_pred, on='image_name')\n",
    "\n",
    "# Uzupełnienie brakujących predykcji na 0 (brak wykrycia = negatyw)\n",
    "df['label_pred'] = df['label_pred'].fillna(0).astype(int)\n",
    "\n",
    "# Obliczenie metryk\n",
    "accuracy = accuracy_score(df['label_real'], df['label_pred'])\n",
    "precision = precision_score(df['label_real'], df['label_pred'], zero_division=0)\n",
    "recall = recall_score(df['label_real'], df['label_pred'], zero_division=0)\n",
    "\n",
    "# Wyświetlenie wyników\n",
    "print(f\"Accuracy:  {accuracy:.4f}\")\n",
    "print(f\"Precision: {precision:.4f}\")\n",
    "print(f\"Recall:    {recall:.4f}\")\n"
   ],
   "id": "54492c2259e57388"
  }
 ],
 "metadata": {},
 "nbformat": 5,
 "nbformat_minor": 9
}
