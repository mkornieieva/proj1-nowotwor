{
 "cells": [
  {
   "metadata": {},
   "cell_type": "code",
   "outputs": [],
   "execution_count": null,
   "source": "",
   "id": "5a5614ba810ed24"
  },
  {
   "metadata": {
    "ExecuteTime": {
     "end_time": "2025-05-05T08:57:15.627311Z",
     "start_time": "2025-05-05T08:57:15.615044Z"
    }
   },
   "cell_type": "code",
   "source": [
    "import pd\n",
    "import torch\n",
    "\n",
    "if torch.cuda.is_available():\n",
    "    print(\"CUDA is available.\")\n",
    "else:\n",
    "    print(\"CUDA is not available. Running on CPU-only mode.\")"
   ],
   "id": "779e6dfd6424ff05",
   "outputs": [
    {
     "name": "stdout",
     "output_type": "stream",
     "text": [
      "CUDA is available.\n"
     ]
    }
   ],
   "execution_count": 8
  },
  {
   "metadata": {
    "ExecuteTime": {
     "end_time": "2025-05-05T08:57:18.269382Z",
     "start_time": "2025-05-05T08:57:18.261814Z"
    }
   },
   "cell_type": "code",
   "source": [
    "import torch\n",
    "print(\"CUDA dostępne:\", torch.cuda.is_available())\n",
    "if torch.cuda.is_available():\n",
    "    print(\"Wykryta karta:\", torch.cuda.get_device_name(0))\n"
   ],
   "id": "c341622e441ea731",
   "outputs": [
    {
     "name": "stdout",
     "output_type": "stream",
     "text": [
      "CUDA dostępne: True\n",
      "Wykryta karta: NVIDIA GeForce RTX 3060 Laptop GPU\n"
     ]
    }
   ],
   "execution_count": 9
  },
  {
   "metadata": {},
   "cell_type": "code",
   "source": [
    "%pip install ultralytics\n",
    "import ultralytics\n",
    "ultralytics.checks()"
   ],
   "id": "fa112fb21f2567b6",
   "execution_count": 11,
   "outputs": [
    {
     "name": "stdout",
     "output_type": "stream",
     "text": [
      "Ultralytics 8.3.112  Python-3.12.3 torch-2.5.1+cu121 CUDA:0 (NVIDIA GeForce RTX 3060 Laptop GPU, 6144MiB)\n",
      "Setup complete  (16 CPUs, 15.7 GB RAM, 165.6/200.1 GB disk)\n"
     ]
    }
   ]
  },
  {
   "metadata": {},
   "cell_type": "markdown",
   "source": "# test\n",
   "id": "6022719b41c41b12"
  },
  {
   "metadata": {
    "ExecuteTime": {
     "end_time": "2025-05-05T09:06:54.463408Z",
     "start_time": "2025-05-05T09:06:52.591813Z"
    }
   },
   "cell_type": "code",
   "source": "%pip install torch torchvision torchaudio --index-url https://download.pytorch.org/whl/cu121\n",
   "id": "9166db5e5560d7db",
   "outputs": [
    {
     "name": "stdout",
     "output_type": "stream",
     "text": [
      "Looking in indexes: https://download.pytorch.org/whl/cu121\n",
      "Requirement already satisfied: torch in c:\\users\\user\\appdata\\local\\programs\\python\\python312\\lib\\site-packages (2.5.1+cu121)\n",
      "Requirement already satisfied: torchvision in c:\\users\\user\\appdata\\local\\programs\\python\\python312\\lib\\site-packages (0.20.1+cu121)\n",
      "Requirement already satisfied: torchaudio in c:\\users\\user\\appdata\\local\\programs\\python\\python312\\lib\\site-packages (2.5.1+cu121)\n",
      "Requirement already satisfied: filelock in c:\\users\\user\\appdata\\local\\programs\\python\\python312\\lib\\site-packages (from torch) (3.18.0)\n",
      "Requirement already satisfied: typing-extensions>=4.8.0 in c:\\users\\user\\appdata\\local\\programs\\python\\python312\\lib\\site-packages (from torch) (4.12.2)\n",
      "Requirement already satisfied: networkx in c:\\users\\user\\appdata\\local\\programs\\python\\python312\\lib\\site-packages (from torch) (3.4.2)\n",
      "Requirement already satisfied: jinja2 in c:\\users\\user\\appdata\\local\\programs\\python\\python312\\lib\\site-packages (from torch) (3.1.6)\n",
      "Requirement already satisfied: fsspec in c:\\users\\user\\appdata\\local\\programs\\python\\python312\\lib\\site-packages (from torch) (2025.3.0)\n",
      "Requirement already satisfied: setuptools in c:\\users\\user\\appdata\\local\\programs\\python\\python312\\lib\\site-packages (from torch) (78.1.0)\n",
      "Requirement already satisfied: sympy==1.13.1 in c:\\users\\user\\appdata\\local\\programs\\python\\python312\\lib\\site-packages (from torch) (1.13.1)\n",
      "Requirement already satisfied: mpmath<1.4,>=1.1.0 in c:\\users\\user\\appdata\\local\\programs\\python\\python312\\lib\\site-packages (from sympy==1.13.1->torch) (1.3.0)\n",
      "Requirement already satisfied: numpy in c:\\users\\user\\appdata\\local\\programs\\python\\python312\\lib\\site-packages (from torchvision) (2.1.1)\n",
      "Requirement already satisfied: pillow!=8.3.*,>=5.3.0 in c:\\users\\user\\appdata\\local\\programs\\python\\python312\\lib\\site-packages (from torchvision) (11.1.0)\n",
      "Requirement already satisfied: MarkupSafe>=2.0 in c:\\users\\user\\appdata\\local\\programs\\python\\python312\\lib\\site-packages (from jinja2->torch) (3.0.2)\n",
      "Note: you may need to restart the kernel to use updated packages.\n"
     ]
    }
   ],
   "execution_count": 2
  },
  {
   "metadata": {
    "ExecuteTime": {
     "end_time": "2025-05-05T09:07:13.270938Z",
     "start_time": "2025-05-05T09:07:13.264699Z"
    }
   },
   "cell_type": "code",
   "source": [
    "import torch\n",
    "print(\"CUDA dostępne:\", torch.cuda.is_available())\n",
    "if torch.cuda.is_available():\n",
    "    print(\"Wykryta karta:\", torch.cuda.get_device_name(0))"
   ],
   "id": "5637ee57882d06f8",
   "outputs": [
    {
     "name": "stdout",
     "output_type": "stream",
     "text": [
      "CUDA dostępne: True\n",
      "Wykryta karta: NVIDIA GeForce RTX 3060 Laptop GPU\n"
     ]
    }
   ],
   "execution_count": 3
  },
  {
   "metadata": {
    "ExecuteTime": {
     "end_time": "2025-05-05T09:07:22.275939Z",
     "start_time": "2025-05-05T09:07:22.266495Z"
    }
   },
   "cell_type": "code",
   "source": [
    "import sys\n",
    "print(sys.executable)"
   ],
   "id": "8a39472b6c265354",
   "outputs": [
    {
     "name": "stdout",
     "output_type": "stream",
     "text": [
      "C:\\Users\\USER\\AppData\\Local\\Programs\\Python\\Python312\\python.exe\n"
     ]
    }
   ],
   "execution_count": 4
  },
  {
   "metadata": {
    "ExecuteTime": {
     "end_time": "2025-05-05T09:07:52.818687Z",
     "start_time": "2025-05-05T09:07:51.066134Z"
    }
   },
   "cell_type": "code",
   "source": [
    "\n",
    "%pip install ipykernel\n",
    "%python -m ipykernel install --user --name cuda-env --display-name \"Python (CUDA)\"\n"
   ],
   "id": "7b282cc7d1adb06d",
   "outputs": [
    {
     "name": "stdout",
     "output_type": "stream",
     "text": [
      "Requirement already satisfied: ipykernel in c:\\users\\user\\appdata\\local\\programs\\python\\python312\\lib\\site-packages (6.29.5)\n",
      "Requirement already satisfied: comm>=0.1.1 in c:\\users\\user\\appdata\\local\\programs\\python\\python312\\lib\\site-packages (from ipykernel) (0.2.2)\n",
      "Requirement already satisfied: debugpy>=1.6.5 in c:\\users\\user\\appdata\\local\\programs\\python\\python312\\lib\\site-packages (from ipykernel) (1.8.14)\n",
      "Requirement already satisfied: ipython>=7.23.1 in c:\\users\\user\\appdata\\local\\programs\\python\\python312\\lib\\site-packages (from ipykernel) (9.1.0)\n",
      "Requirement already satisfied: jupyter-client>=6.1.12 in c:\\users\\user\\appdata\\local\\programs\\python\\python312\\lib\\site-packages (from ipykernel) (8.6.3)\n",
      "Requirement already satisfied: jupyter-core!=5.0.*,>=4.12 in c:\\users\\user\\appdata\\local\\programs\\python\\python312\\lib\\site-packages (from ipykernel) (5.7.2)\n",
      "Requirement already satisfied: matplotlib-inline>=0.1 in c:\\users\\user\\appdata\\local\\programs\\python\\python312\\lib\\site-packages (from ipykernel) (0.1.7)\n",
      "Requirement already satisfied: nest-asyncio in c:\\users\\user\\appdata\\local\\programs\\python\\python312\\lib\\site-packages (from ipykernel) (1.6.0)\n",
      "Requirement already satisfied: packaging in c:\\users\\user\\appdata\\local\\programs\\python\\python312\\lib\\site-packages (from ipykernel) (25.0)\n",
      "Requirement already satisfied: psutil in c:\\users\\user\\appdata\\local\\programs\\python\\python312\\lib\\site-packages (from ipykernel) (7.0.0)\n",
      "Requirement already satisfied: pyzmq>=24 in c:\\users\\user\\appdata\\local\\programs\\python\\python312\\lib\\site-packages (from ipykernel) (26.4.0)\n",
      "Requirement already satisfied: tornado>=6.1 in c:\\users\\user\\appdata\\local\\programs\\python\\python312\\lib\\site-packages (from ipykernel) (6.4.2)\n",
      "Requirement already satisfied: traitlets>=5.4.0 in c:\\users\\user\\appdata\\local\\programs\\python\\python312\\lib\\site-packages (from ipykernel) (5.14.3)\n",
      "Requirement already satisfied: colorama in c:\\users\\user\\appdata\\local\\programs\\python\\python312\\lib\\site-packages (from ipython>=7.23.1->ipykernel) (0.4.6)\n",
      "Requirement already satisfied: decorator in c:\\users\\user\\appdata\\local\\programs\\python\\python312\\lib\\site-packages (from ipython>=7.23.1->ipykernel) (5.2.1)\n",
      "Requirement already satisfied: ipython-pygments-lexers in c:\\users\\user\\appdata\\local\\programs\\python\\python312\\lib\\site-packages (from ipython>=7.23.1->ipykernel) (1.1.1)\n",
      "Requirement already satisfied: jedi>=0.16 in c:\\users\\user\\appdata\\local\\programs\\python\\python312\\lib\\site-packages (from ipython>=7.23.1->ipykernel) (0.19.2)\n",
      "Requirement already satisfied: prompt_toolkit<3.1.0,>=3.0.41 in c:\\users\\user\\appdata\\local\\programs\\python\\python312\\lib\\site-packages (from ipython>=7.23.1->ipykernel) (3.0.51)\n",
      "Requirement already satisfied: pygments>=2.4.0 in c:\\users\\user\\appdata\\local\\programs\\python\\python312\\lib\\site-packages (from ipython>=7.23.1->ipykernel) (2.19.1)\n",
      "Requirement already satisfied: stack_data in c:\\users\\user\\appdata\\local\\programs\\python\\python312\\lib\\site-packages (from ipython>=7.23.1->ipykernel) (0.6.3)\n",
      "Requirement already satisfied: wcwidth in c:\\users\\user\\appdata\\local\\programs\\python\\python312\\lib\\site-packages (from prompt_toolkit<3.1.0,>=3.0.41->ipython>=7.23.1->ipykernel) (0.2.13)\n",
      "Requirement already satisfied: parso<0.9.0,>=0.8.4 in c:\\users\\user\\appdata\\local\\programs\\python\\python312\\lib\\site-packages (from jedi>=0.16->ipython>=7.23.1->ipykernel) (0.8.4)\n",
      "Requirement already satisfied: python-dateutil>=2.8.2 in c:\\users\\user\\appdata\\local\\programs\\python\\python312\\lib\\site-packages (from jupyter-client>=6.1.12->ipykernel) (2.9.0.post0)\n",
      "Requirement already satisfied: platformdirs>=2.5 in c:\\users\\user\\appdata\\local\\programs\\python\\python312\\lib\\site-packages (from jupyter-core!=5.0.*,>=4.12->ipykernel) (4.3.7)\n",
      "Requirement already satisfied: pywin32>=300 in c:\\users\\user\\appdata\\local\\programs\\python\\python312\\lib\\site-packages (from jupyter-core!=5.0.*,>=4.12->ipykernel) (310)\n",
      "Requirement already satisfied: six>=1.5 in c:\\users\\user\\appdata\\local\\programs\\python\\python312\\lib\\site-packages (from python-dateutil>=2.8.2->jupyter-client>=6.1.12->ipykernel) (1.17.0)\n",
      "Requirement already satisfied: executing>=1.2.0 in c:\\users\\user\\appdata\\local\\programs\\python\\python312\\lib\\site-packages (from stack_data->ipython>=7.23.1->ipykernel) (2.2.0)\n",
      "Requirement already satisfied: asttokens>=2.1.0 in c:\\users\\user\\appdata\\local\\programs\\python\\python312\\lib\\site-packages (from stack_data->ipython>=7.23.1->ipykernel) (3.0.0)\n",
      "Requirement already satisfied: pure-eval in c:\\users\\user\\appdata\\local\\programs\\python\\python312\\lib\\site-packages (from stack_data->ipython>=7.23.1->ipykernel) (0.2.3)\n",
      "Note: you may need to restart the kernel to use updated packages.\n"
     ]
    },
    {
     "name": "stderr",
     "output_type": "stream",
     "text": [
      "UsageError: Line magic function `%python` not found (But cell magic `%%python` exists, did you mean that instead?).\n"
     ]
    }
   ],
   "execution_count": 5
  },
  {
   "metadata": {
    "ExecuteTime": {
     "end_time": "2025-05-05T09:08:15.989407Z",
     "start_time": "2025-05-05T09:08:15.980786Z"
    }
   },
   "cell_type": "code",
   "source": [
    "import torch\n",
    "print(torch.__version__)\n",
    "print(\"CUDA:\", torch.cuda.is_available())\n",
    "print(\"GPU:\", torch.cuda.get_device_name(0) if torch.cuda.is_available() else \"Brak\")\n",
    "\n"
   ],
   "id": "aeb392fee05044d5",
   "outputs": [
    {
     "name": "stdout",
     "output_type": "stream",
     "text": [
      "2.5.1+cu121\n",
      "CUDA: True\n",
      "GPU: NVIDIA GeForce RTX 3060 Laptop GPU\n"
     ]
    }
   ],
   "execution_count": 6
  },
  {
   "metadata": {},
   "cell_type": "markdown",
   "source": "# trening",
   "id": "42b11e9f1f9f1b58"
  },
  {
   "metadata": {
    "ExecuteTime": {
     "end_time": "2025-05-05T10:57:11.055803Z",
     "start_time": "2025-05-05T10:57:07.271101Z"
    }
   },
   "cell_type": "code",
   "source": [
    "from ultralytics import YOLO\n",
    "\n",
    "# Load a last_model\n",
    "model = YOLO(\"yolo11n.pt\")  # load a pretrained last_model\n",
    "\n",
    "# Train the last_model on GPU (device=0)\n",
    "results = model.train(\n",
    "    data=r\"C:\\Users\\USER\\Downloads\\dataset\\data.yaml\",\n",
    "    epochs=100,\n",
    "    imgsz=512,\n",
    "    device=0  # GPU 0 = Twoja karta NVIDIA\n",
    ")"
   ],
   "id": "1d1703b91ece27e9",
   "outputs": [
    {
     "name": "stdout",
     "output_type": "stream",
     "text": [
      "Downloading https://github.com/ultralytics/assets/releases/download/v8.3.0/yolo11n.pt to 'yolo11n.pt'...\n"
     ]
    },
    {
     "name": "stderr",
     "output_type": "stream",
     "text": [
      "100%|██████████| 5.35M/5.35M [00:01<00:00, 4.64MB/s]\n"
     ]
    },
    {
     "name": "stdout",
     "output_type": "stream",
     "text": [
      "New https://pypi.org/project/ultralytics/8.3.127 available  Update with 'pip install -U ultralytics'\n",
      "Ultralytics 8.3.112  Python-3.12.3 torch-2.5.1+cu121 CUDA:0 (NVIDIA GeForce RTX 3060 Laptop GPU, 6144MiB)\n",
      "\u001B[34m\u001B[1mengine\\trainer: \u001B[0mtask=detect, mode=train, model=yolo11n.pt, data=C:\\Users\\USER\\Downloads\\dataset\\data.yaml, epochs=100, time=None, patience=100, batch=16, imgsz=512, save=True, save_period=-1, cache=False, device=0, workers=8, project=None, name=train4, exist_ok=False, pretrained=True, optimizer=auto, verbose=True, seed=0, deterministic=True, single_cls=False, rect=False, cos_lr=False, close_mosaic=10, resume=False, amp=True, fraction=1.0, profile=False, freeze=None, multi_scale=False, overlap_mask=True, mask_ratio=4, dropout=0.0, val=True, split=val, save_json=False, conf=None, iou=0.7, max_det=300, half=False, dnn=False, plots=True, source=None, vid_stride=1, stream_buffer=False, visualize=False, augment=False, agnostic_nms=False, classes=None, retina_masks=False, embed=None, show=False, save_frames=False, save_txt=False, save_conf=False, save_crop=False, show_labels=True, show_conf=True, show_boxes=True, line_width=None, format=torchscript, keras=False, optimize=False, int8=False, dynamic=False, simplify=True, opset=None, workspace=None, nms=False, lr0=0.01, lrf=0.01, momentum=0.937, weight_decay=0.0005, warmup_epochs=3.0, warmup_momentum=0.8, warmup_bias_lr=0.1, box=7.5, cls=0.5, dfl=1.5, pose=12.0, kobj=1.0, nbs=64, hsv_h=0.015, hsv_s=0.7, hsv_v=0.4, degrees=0.0, translate=0.1, scale=0.5, shear=0.0, perspective=0.0, flipud=0.0, fliplr=0.5, bgr=0.0, mosaic=1.0, mixup=0.0, copy_paste=0.0, copy_paste_mode=flip, auto_augment=randaugment, erasing=0.4, cfg=None, tracker=botsort.yaml, save_dir=runs\\detect\\train4\n"
     ]
    },
    {
     "ename": "RuntimeError",
     "evalue": "Dataset 'C://Users/USER/Downloads/dataset/data.yaml' error  'C:\\Users\\USER\\Downloads\\dataset\\data.yaml' does not exist",
     "output_type": "error",
     "traceback": [
      "\u001B[31m---------------------------------------------------------------------------\u001B[39m",
      "\u001B[31mFileNotFoundError\u001B[39m                         Traceback (most recent call last)",
      "\u001B[36mFile \u001B[39m\u001B[32m~\\AppData\\Local\\Programs\\Python\\Python312\\Lib\\site-packages\\ultralytics\\engine\\trainer.py:581\u001B[39m, in \u001B[36mBaseTrainer.get_dataset\u001B[39m\u001B[34m(self)\u001B[39m\n\u001B[32m    575\u001B[39m \u001B[38;5;28;01melif\u001B[39;00m \u001B[38;5;28mself\u001B[39m.args.data.split(\u001B[33m\"\u001B[39m\u001B[33m.\u001B[39m\u001B[33m\"\u001B[39m)[-\u001B[32m1\u001B[39m] \u001B[38;5;129;01min\u001B[39;00m {\u001B[33m\"\u001B[39m\u001B[33myaml\u001B[39m\u001B[33m\"\u001B[39m, \u001B[33m\"\u001B[39m\u001B[33myml\u001B[39m\u001B[33m\"\u001B[39m} \u001B[38;5;129;01mor\u001B[39;00m \u001B[38;5;28mself\u001B[39m.args.task \u001B[38;5;129;01min\u001B[39;00m {\n\u001B[32m    576\u001B[39m     \u001B[33m\"\u001B[39m\u001B[33mdetect\u001B[39m\u001B[33m\"\u001B[39m,\n\u001B[32m    577\u001B[39m     \u001B[33m\"\u001B[39m\u001B[33msegment\u001B[39m\u001B[33m\"\u001B[39m,\n\u001B[32m    578\u001B[39m     \u001B[33m\"\u001B[39m\u001B[33mpose\u001B[39m\u001B[33m\"\u001B[39m,\n\u001B[32m    579\u001B[39m     \u001B[33m\"\u001B[39m\u001B[33mobb\u001B[39m\u001B[33m\"\u001B[39m,\n\u001B[32m    580\u001B[39m }:\n\u001B[32m--> \u001B[39m\u001B[32m581\u001B[39m     data = \u001B[43mcheck_det_dataset\u001B[49m\u001B[43m(\u001B[49m\u001B[38;5;28;43mself\u001B[39;49m\u001B[43m.\u001B[49m\u001B[43margs\u001B[49m\u001B[43m.\u001B[49m\u001B[43mdata\u001B[49m\u001B[43m)\u001B[49m\n\u001B[32m    582\u001B[39m     \u001B[38;5;28;01mif\u001B[39;00m \u001B[33m\"\u001B[39m\u001B[33myaml_file\u001B[39m\u001B[33m\"\u001B[39m \u001B[38;5;129;01min\u001B[39;00m data:\n",
      "\u001B[36mFile \u001B[39m\u001B[32m~\\AppData\\Local\\Programs\\Python\\Python312\\Lib\\site-packages\\ultralytics\\data\\utils.py:392\u001B[39m, in \u001B[36mcheck_det_dataset\u001B[39m\u001B[34m(dataset, autodownload)\u001B[39m\n\u001B[32m    378\u001B[39m \u001B[38;5;250m\u001B[39m\u001B[33;03m\"\"\"\u001B[39;00m\n\u001B[32m    379\u001B[39m \u001B[33;03mDownload, verify, and/or unzip a dataset if not found locally.\u001B[39;00m\n\u001B[32m    380\u001B[39m \n\u001B[32m   (...)\u001B[39m\u001B[32m    390\u001B[39m \u001B[33;03m    (dict): Parsed dataset information and paths.\u001B[39;00m\n\u001B[32m    391\u001B[39m \u001B[33;03m\"\"\"\u001B[39;00m\n\u001B[32m--> \u001B[39m\u001B[32m392\u001B[39m file = \u001B[43mcheck_file\u001B[49m\u001B[43m(\u001B[49m\u001B[43mdataset\u001B[49m\u001B[43m)\u001B[49m\n\u001B[32m    394\u001B[39m \u001B[38;5;66;03m# Download (optional)\u001B[39;00m\n",
      "\u001B[36mFile \u001B[39m\u001B[32m~\\AppData\\Local\\Programs\\Python\\Python312\\Lib\\site-packages\\ultralytics\\utils\\checks.py:541\u001B[39m, in \u001B[36mcheck_file\u001B[39m\u001B[34m(file, suffix, download, download_dir, hard)\u001B[39m\n\u001B[32m    540\u001B[39m \u001B[38;5;28;01mif\u001B[39;00m \u001B[38;5;129;01mnot\u001B[39;00m files \u001B[38;5;129;01mand\u001B[39;00m hard:\n\u001B[32m--> \u001B[39m\u001B[32m541\u001B[39m     \u001B[38;5;28;01mraise\u001B[39;00m \u001B[38;5;167;01mFileNotFoundError\u001B[39;00m(\u001B[33mf\u001B[39m\u001B[33m\"\u001B[39m\u001B[33m'\u001B[39m\u001B[38;5;132;01m{\u001B[39;00mfile\u001B[38;5;132;01m}\u001B[39;00m\u001B[33m'\u001B[39m\u001B[33m does not exist\u001B[39m\u001B[33m\"\u001B[39m)\n\u001B[32m    542\u001B[39m \u001B[38;5;28;01melif\u001B[39;00m \u001B[38;5;28mlen\u001B[39m(files) > \u001B[32m1\u001B[39m \u001B[38;5;129;01mand\u001B[39;00m hard:\n",
      "\u001B[31mFileNotFoundError\u001B[39m: 'C:\\Users\\USER\\Downloads\\dataset\\data.yaml' does not exist",
      "\nThe above exception was the direct cause of the following exception:\n",
      "\u001B[31mRuntimeError\u001B[39m                              Traceback (most recent call last)",
      "\u001B[36mCell\u001B[39m\u001B[36m \u001B[39m\u001B[32mIn[10]\u001B[39m\u001B[32m, line 7\u001B[39m\n\u001B[32m      4\u001B[39m model = YOLO(\u001B[33m\"\u001B[39m\u001B[33myolo11n.pt\u001B[39m\u001B[33m\"\u001B[39m)  \u001B[38;5;66;03m# load a pretrained model\u001B[39;00m\n\u001B[32m      6\u001B[39m \u001B[38;5;66;03m# Train the model on GPU (device=0)\u001B[39;00m\n\u001B[32m----> \u001B[39m\u001B[32m7\u001B[39m results = \u001B[43mmodel\u001B[49m\u001B[43m.\u001B[49m\u001B[43mtrain\u001B[49m\u001B[43m(\u001B[49m\n\u001B[32m      8\u001B[39m \u001B[43m    \u001B[49m\u001B[43mdata\u001B[49m\u001B[43m=\u001B[49m\u001B[33;43mr\u001B[39;49m\u001B[33;43m\"\u001B[39;49m\u001B[33;43mC:\u001B[39;49m\u001B[33;43m\\\u001B[39;49m\u001B[33;43mUsers\u001B[39;49m\u001B[33;43m\\\u001B[39;49m\u001B[33;43mUSER\u001B[39;49m\u001B[33;43m\\\u001B[39;49m\u001B[33;43mDownloads\u001B[39;49m\u001B[33;43m\\\u001B[39;49m\u001B[33;43mdataset\u001B[39;49m\u001B[33;43m\\\u001B[39;49m\u001B[33;43mdata.yaml\u001B[39;49m\u001B[33;43m\"\u001B[39;49m\u001B[43m,\u001B[49m\n\u001B[32m      9\u001B[39m \u001B[43m    \u001B[49m\u001B[43mepochs\u001B[49m\u001B[43m=\u001B[49m\u001B[32;43m100\u001B[39;49m\u001B[43m,\u001B[49m\n\u001B[32m     10\u001B[39m \u001B[43m    \u001B[49m\u001B[43mimgsz\u001B[49m\u001B[43m=\u001B[49m\u001B[32;43m512\u001B[39;49m\u001B[43m,\u001B[49m\n\u001B[32m     11\u001B[39m \u001B[43m    \u001B[49m\u001B[43mdevice\u001B[49m\u001B[43m=\u001B[49m\u001B[32;43m0\u001B[39;49m\u001B[43m  \u001B[49m\u001B[38;5;66;43;03m# GPU 0 = Twoja karta NVIDIA\u001B[39;49;00m\n\u001B[32m     12\u001B[39m \u001B[43m)\u001B[49m\n",
      "\u001B[36mFile \u001B[39m\u001B[32m~\\AppData\\Local\\Programs\\Python\\Python312\\Lib\\site-packages\\ultralytics\\engine\\model.py:784\u001B[39m, in \u001B[36mModel.train\u001B[39m\u001B[34m(self, trainer, **kwargs)\u001B[39m\n\u001B[32m    781\u001B[39m \u001B[38;5;28;01mif\u001B[39;00m args.get(\u001B[33m\"\u001B[39m\u001B[33mresume\u001B[39m\u001B[33m\"\u001B[39m):\n\u001B[32m    782\u001B[39m     args[\u001B[33m\"\u001B[39m\u001B[33mresume\u001B[39m\u001B[33m\"\u001B[39m] = \u001B[38;5;28mself\u001B[39m.ckpt_path\n\u001B[32m--> \u001B[39m\u001B[32m784\u001B[39m \u001B[38;5;28mself\u001B[39m.trainer = \u001B[43m(\u001B[49m\u001B[43mtrainer\u001B[49m\u001B[43m \u001B[49m\u001B[38;5;129;43;01mor\u001B[39;49;00m\u001B[43m \u001B[49m\u001B[38;5;28;43mself\u001B[39;49m\u001B[43m.\u001B[49m\u001B[43m_smart_load\u001B[49m\u001B[43m(\u001B[49m\u001B[33;43m\"\u001B[39;49m\u001B[33;43mtrainer\u001B[39;49m\u001B[33;43m\"\u001B[39;49m\u001B[43m)\u001B[49m\u001B[43m)\u001B[49m\u001B[43m(\u001B[49m\u001B[43moverrides\u001B[49m\u001B[43m=\u001B[49m\u001B[43margs\u001B[49m\u001B[43m,\u001B[49m\u001B[43m \u001B[49m\u001B[43m_callbacks\u001B[49m\u001B[43m=\u001B[49m\u001B[38;5;28;43mself\u001B[39;49m\u001B[43m.\u001B[49m\u001B[43mcallbacks\u001B[49m\u001B[43m)\u001B[49m\n\u001B[32m    785\u001B[39m \u001B[38;5;28;01mif\u001B[39;00m \u001B[38;5;129;01mnot\u001B[39;00m args.get(\u001B[33m\"\u001B[39m\u001B[33mresume\u001B[39m\u001B[33m\"\u001B[39m):  \u001B[38;5;66;03m# manually set model only if not resuming\u001B[39;00m\n\u001B[32m    786\u001B[39m     \u001B[38;5;28mself\u001B[39m.trainer.model = \u001B[38;5;28mself\u001B[39m.trainer.get_model(weights=\u001B[38;5;28mself\u001B[39m.model \u001B[38;5;28;01mif\u001B[39;00m \u001B[38;5;28mself\u001B[39m.ckpt \u001B[38;5;28;01melse\u001B[39;00m \u001B[38;5;28;01mNone\u001B[39;00m, cfg=\u001B[38;5;28mself\u001B[39m.model.yaml)\n",
      "\u001B[36mFile \u001B[39m\u001B[32m~\\AppData\\Local\\Programs\\Python\\Python312\\Lib\\site-packages\\ultralytics\\engine\\trainer.py:137\u001B[39m, in \u001B[36mBaseTrainer.__init__\u001B[39m\u001B[34m(self, cfg, overrides, _callbacks)\u001B[39m\n\u001B[32m    135\u001B[39m \u001B[38;5;28mself\u001B[39m.model = check_model_file_from_stem(\u001B[38;5;28mself\u001B[39m.args.model)  \u001B[38;5;66;03m# add suffix, i.e. yolo11n -> yolo11n.pt\u001B[39;00m\n\u001B[32m    136\u001B[39m \u001B[38;5;28;01mwith\u001B[39;00m torch_distributed_zero_first(LOCAL_RANK):  \u001B[38;5;66;03m# avoid auto-downloading dataset multiple times\u001B[39;00m\n\u001B[32m--> \u001B[39m\u001B[32m137\u001B[39m     \u001B[38;5;28mself\u001B[39m.trainset, \u001B[38;5;28mself\u001B[39m.testset = \u001B[38;5;28;43mself\u001B[39;49m\u001B[43m.\u001B[49m\u001B[43mget_dataset\u001B[49m\u001B[43m(\u001B[49m\u001B[43m)\u001B[49m\n\u001B[32m    138\u001B[39m \u001B[38;5;28mself\u001B[39m.ema = \u001B[38;5;28;01mNone\u001B[39;00m\n\u001B[32m    140\u001B[39m \u001B[38;5;66;03m# Optimization utils init\u001B[39;00m\n",
      "\u001B[36mFile \u001B[39m\u001B[32m~\\AppData\\Local\\Programs\\Python\\Python312\\Lib\\site-packages\\ultralytics\\engine\\trainer.py:585\u001B[39m, in \u001B[36mBaseTrainer.get_dataset\u001B[39m\u001B[34m(self)\u001B[39m\n\u001B[32m    583\u001B[39m             \u001B[38;5;28mself\u001B[39m.args.data = data[\u001B[33m\"\u001B[39m\u001B[33myaml_file\u001B[39m\u001B[33m\"\u001B[39m]  \u001B[38;5;66;03m# for validating 'yolo train data=url.zip' usage\u001B[39;00m\n\u001B[32m    584\u001B[39m \u001B[38;5;28;01mexcept\u001B[39;00m \u001B[38;5;167;01mException\u001B[39;00m \u001B[38;5;28;01mas\u001B[39;00m e:\n\u001B[32m--> \u001B[39m\u001B[32m585\u001B[39m     \u001B[38;5;28;01mraise\u001B[39;00m \u001B[38;5;167;01mRuntimeError\u001B[39;00m(emojis(\u001B[33mf\u001B[39m\u001B[33m\"\u001B[39m\u001B[33mDataset \u001B[39m\u001B[33m'\u001B[39m\u001B[38;5;132;01m{\u001B[39;00mclean_url(\u001B[38;5;28mself\u001B[39m.args.data)\u001B[38;5;132;01m}\u001B[39;00m\u001B[33m'\u001B[39m\u001B[33m error ❌ \u001B[39m\u001B[38;5;132;01m{\u001B[39;00me\u001B[38;5;132;01m}\u001B[39;00m\u001B[33m\"\u001B[39m)) \u001B[38;5;28;01mfrom\u001B[39;00m\u001B[38;5;250m \u001B[39m\u001B[34;01me\u001B[39;00m\n\u001B[32m    586\u001B[39m \u001B[38;5;28mself\u001B[39m.data = data\n\u001B[32m    587\u001B[39m \u001B[38;5;28;01mif\u001B[39;00m \u001B[38;5;28mself\u001B[39m.args.single_cls:\n",
      "\u001B[31mRuntimeError\u001B[39m: Dataset 'C://Users/USER/Downloads/dataset/data.yaml' error  'C:\\Users\\USER\\Downloads\\dataset\\data.yaml' does not exist"
     ]
    }
   ],
   "execution_count": 10
  },
  {
   "metadata": {},
   "cell_type": "markdown",
   "source": "",
   "id": "397483b236f54412"
  },
  {
   "metadata": {},
   "cell_type": "markdown",
   "source": "# gotowy model",
   "id": "d15ba6c70b8cd69"
  },
  {
   "metadata": {},
   "cell_type": "code",
   "outputs": [],
   "execution_count": null,
   "source": [
    "from ultralytics import YOLO\n",
    "\n",
    "# Load a last_model\n",
    "model = YOLO(\"model2.0/weights/best.pt\")  # ładuje last_model lokalnie z projektu\n",
    "\n",
    "# Inference using the last_model\n",
    "results = model.predict(\"C:/Users/basia/PycharmProjects/proj1-nowotwor/last_model/output3/test/images\")"
   ],
   "id": "4ba65ee7dec71c59"
  },
  {
   "metadata": {},
   "cell_type": "code",
   "outputs": [],
   "execution_count": null,
   "source": "results = pd.DataFrame(results)",
   "id": "4279b6b2f37efd8a"
  },
  {
   "metadata": {},
   "cell_type": "code",
   "outputs": [],
   "execution_count": null,
   "source": [
    "import os\n",
    "import pandas as pd\n",
    "\n",
    "# Ścieżki do folderów\n",
    "images_folder = \"C:/Users/basia/PycharmProjects/proj1-nowotwor/last_model/output3/test/images\"\n",
    "labels_folder = \"C:/Users/basia/PycharmProjects/proj1-nowotwor/last_model/output3/test/labels\"\n",
    "\n",
    "# Lista do przechowywania danych\n",
    "data = []\n",
    "\n",
    "# Iteracja po plikach graficznych\n",
    "for image_file in os.listdir(images_folder):\n",
    "    if image_file.lower().endswith(('.jpg', '.jpeg', '.png', '.bmp', '.gif')):\n",
    "        image_name = image_file\n",
    "        label_file = os.path.splitext(image_file)[0] + \".txt\"\n",
    "        label_path = os.path.join(labels_folder, label_file)\n",
    "\n",
    "        # Sprawdzenie czy odpowiadający plik tekstowy istnieje\n",
    "        if os.path.isfile(label_path):\n",
    "            with open(label_path, 'r', encoding='utf-8') as f:\n",
    "                first_char = f.read(1)\n",
    "                label = int(first_char) if first_char in ['0', '1'] else None\n",
    "        else:\n",
    "            label = None  # lub np. -1 jeśli chcesz oznaczyć brak pliku\n",
    "\n",
    "        data.append({'image_name': image_name, 'label': label})\n",
    "\n",
    "# Tworzenie DataFrame\n",
    "test_real = pd.DataFrame(data)\n",
    "\n",
    "# Wyświetlenie lub zapisanie wyników\n",
    "print(df)\n",
    "# df.to_csv(\"image_labels.csv\", index=False)  # jeśli chcesz zapisać\n"
   ],
   "id": "a57308cfecc101a5"
  },
  {
   "metadata": {},
   "cell_type": "code",
   "outputs": [],
   "execution_count": null,
   "source": [
    "import os\n",
    "import pandas as pd\n",
    "import numpy as np\n",
    "\n",
    "data = []\n",
    "\n",
    "# Sprawdzamy, czy to pojedynczy obiekt Results, czy tablica (np. z predict())\n",
    "results_array = results.values\n",
    "results_flat = results_array.flatten() if isinstance(results_array, np.ndarray) else [results_array]\n",
    "\n",
    "for result in results_flat:\n",
    "    image_path = result.path\n",
    "    image_name = os.path.basename(image_path)\n",
    "\n",
    "    if result.boxes is not None and result.boxes.cls.numel() > 0:\n",
    "        labels = result.boxes.cls.cpu().numpy().astype(int)\n",
    "        label = int(pd.Series(labels).mode()[0])  # Najczęstszy label\n",
    "    else:\n",
    "        label = None  # Brak wykrycia\n",
    "\n",
    "    data.append({'image_name': image_name, 'label': label})\n",
    "\n",
    "# Tworzymy DataFrame\n",
    "df = pd.DataFrame(data)\n",
    "print(df)\n"
   ],
   "id": "c958d472d39bebfc"
  },
  {
   "metadata": {},
   "cell_type": "code",
   "outputs": [],
   "execution_count": null,
   "source": [
    "test_pred = df\n",
    "test_pred = test_pred.fillna(0)"
   ],
   "id": "a2b7edf95a3c0c83"
  },
  {
   "metadata": {},
   "cell_type": "code",
   "outputs": [],
   "execution_count": null,
   "source": [
    "import pandas as pd\n",
    "from sklearn.metrics import accuracy_score, precision_score, recall_score\n",
    "\n",
    "# LEFT JOIN po image_name\n",
    "df = test_real.merge(test_pred, on='image_name')\n",
    "\n",
    "# Uzupełnienie brakujących predykcji na 0 (brak wykrycia = negatyw)\n",
    "df['label_pred'] = df['label_pred'].fillna(0).astype(int)\n",
    "\n",
    "# Obliczenie metryk\n",
    "accuracy = accuracy_score(df['label_real'], df['label_pred'])\n",
    "precision = precision_score(df['label_real'], df['label_pred'], zero_division=0)\n",
    "recall = recall_score(df['label_real'], df['label_pred'], zero_division=0)\n",
    "\n",
    "# Wyświetlenie wyników\n",
    "print(f\"Accuracy:  {accuracy:.4f}\")\n",
    "print(f\"Precision: {precision:.4f}\")\n",
    "print(f\"Recall:    {recall:.4f}\")\n"
   ],
   "id": "54492c2259e57388"
  }
 ],
 "metadata": {
  "kernelspec": {
   "name": "python3",
   "language": "python",
   "display_name": "Python 3 (ipykernel)"
  }
 },
 "nbformat": 5,
 "nbformat_minor": 9
}
